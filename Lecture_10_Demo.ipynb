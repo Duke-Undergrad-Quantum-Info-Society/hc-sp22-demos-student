{
 "cells": [
  {
   "cell_type": "markdown",
   "id": "fundamental-asthma",
   "metadata": {},
   "source": [
    "### Grover's Algorithm - Demo\n",
    "\n",
    "As we saw in the lecture, in Grover's algorithm we are given on oracle, O, which takes $ O|w\\rangle = -|w\\rangle$, where $w$ is the \"winner\". We can then perform the following to obtain a high probability of measuring $w$:\n",
    "\n",
    "1. Prepare uniform superposition\n",
    "2. \n",
    "    * Apply oracle function (O)\n",
    "    * Apply diffusion operator (D)\n",
    "    * (Repeat $O(\\sqrt{N})$ times, where $N$ is the size of the search space)\n",
    "3. Measure\n",
    "\n",
    "Let's go through the code for the 3 qubit example given in lecture. Recall that we are saying the winner is $|111\\rangle$\n"
   ]
  },
  {
   "cell_type": "markdown",
   "id": "framed-secretary",
   "metadata": {},
   "source": [
    "Very briefly, let's see the runtime for a randomised classical algorithm"
   ]
  },
  {
   "cell_type": "code",
   "execution_count": null,
   "id": "earlier-shelf",
   "metadata": {},
   "outputs": [],
   "source": [
    "import random\n",
    "import numpy as np\n",
    "\n",
    "def oracle(y):\n",
    "    return y == '111'\n",
    "\n",
    "def classical_search(search_space):\n",
    "    x = ''\n",
    "    queries = 0\n",
    "    while not oracle(x):\n",
    "\n",
    "        x = random.choice(search_space)\n",
    "        search_space.remove(x)\n",
    "        queries += 1\n",
    "\n",
    "    #print(\"found\", x, \"after\", queries, \"queries\")\n",
    "    return queries\n",
    "\n",
    "qs = [classical_search(['000', '001', '010', '011', '100', '101', '110', '111']) for _ in range(100)]\n",
    "print(\"Average number of queries: \", np.mean(qs))"
   ]
  },
  {
   "cell_type": "markdown",
   "id": "skilled-typing",
   "metadata": {},
   "source": [
    "Now let's see the quantum circuit. First we'll write a function for the amplification operator. This can be appended to the circuit as a little box"
   ]
  },
  {
   "cell_type": "code",
   "execution_count": null,
   "id": "north-diamond",
   "metadata": {},
   "outputs": [],
   "source": [
    "from qiskit import QuantumCircuit\n",
    "from qiskit.circuit.library import ZGate\n",
    "\n",
    "def amplify_operator(n_qubits):\n",
    "    ccz = ZGate().control(n_qubits - 1)\n",
    "    \n",
    "    op = QuantumCircuit(n_qubits, name='D')\n",
    "    \n",
    "    op.h(range(n_qubits))\n",
    "    op.x(range(n_qubits))\n",
    "    op.append(ccz, range(n_qubits))\n",
    "    op.x(range(n_qubits))\n",
    "    op.h(range(n_qubits))\n",
    "    \n",
    "    return op.to_gate()\n",
    "\n",
    "qc = QuantumCircuit(3)\n",
    "qc.append(amplify_operator(3), range(3))\n",
    "qc.draw(output='mpl')"
   ]
  },
  {
   "cell_type": "markdown",
   "id": "saved-spine",
   "metadata": {},
   "source": [
    "We also need to define our oracle. Since the winner is $|111\\rangle$, we can use a CCCX gate and the phase kickback trick to add a negative sign on the input qubits."
   ]
  },
  {
   "cell_type": "code",
   "execution_count": null,
   "id": "gross-photographer",
   "metadata": {},
   "outputs": [],
   "source": [
    "from qiskit import QuantumRegister, ClassicalRegister\n",
    "oracle = QuantumCircuit(QuantumRegister(3, 'main'), QuantumRegister(1, 'ancilla'))\n",
    "oracle.x(3)\n",
    "oracle.h(3)\n",
    "oracle.barrier()\n",
    "\n",
    "oracle.mct([0,1,2], 3)  #mct stands for multi-controlled toffoli \n",
    "oracle.draw(output='mpl')"
   ]
  },
  {
   "cell_type": "code",
   "execution_count": null,
   "id": "better-storage",
   "metadata": {},
   "outputs": [],
   "source": [
    "n = 3\n",
    "\n",
    "qc = QuantumCircuit(QuantumRegister(n, 'main'), QuantumRegister(1, 'ancilla'), ClassicalRegister(3))\n",
    "\n",
    "##Step 0 - put ancilla qubit into |-> state\n",
    "qc.x(3)\n",
    "qc.h(3)\n",
    "qc.barrier()\n",
    "\n",
    "##Step 1 - prepare uniform superposition\n",
    "\n",
    "qc.h(range(n))\n",
    "\n",
    "qc.barrier()\n",
    "\n",
    "##Step 2 - apply G = DO k times \n",
    "k = 2 #since N = 2^3, we want root(N) = root(8) = 2 * root(2) ≈ 2 iterations\n",
    "\n",
    "for i in range(k):\n",
    "    \n",
    "    #apply oracle\n",
    "    qc.mct([0,1,2], 3) #mct stands for multi-controlled toffoli \n",
    "    \n",
    "    #apply diffusion (flip sign of |000>)\n",
    "    qc.append(amplify_operator(3), range(3))\n",
    "    \n",
    "    qc.barrier()\n",
    "    \n",
    "\n",
    "##Step 3 - Measure\n",
    "\n",
    "qc.measure(range(n), range(n))\n",
    "    \n",
    "qc.draw(output='mpl')"
   ]
  },
  {
   "cell_type": "markdown",
   "id": "adequate-constant",
   "metadata": {},
   "source": [
    "So let's see the (simulated) results!"
   ]
  },
  {
   "cell_type": "code",
   "execution_count": null,
   "id": "missing-colonial",
   "metadata": {},
   "outputs": [],
   "source": [
    "from qiskit import execute, BasicAer\n",
    "from qiskit.visualization import plot_histogram\n",
    "\n",
    "backend = BasicAer.get_backend('qasm_simulator')\n",
    "results = execute(qc, backend, shots=1000).result().get_counts()\n",
    "\n",
    "plot_histogram(results)"
   ]
  },
  {
   "cell_type": "markdown",
   "id": "democratic-credit",
   "metadata": {},
   "source": [
    "So $\\approx95\\%$ chance of measuring the winner after 2 iterations. Pretty good!\n",
    "\n",
    "What about if we'd tried a different number of iterations?"
   ]
  },
  {
   "cell_type": "code",
   "execution_count": null,
   "id": "monetary-administration",
   "metadata": {},
   "outputs": [],
   "source": []
  },
  {
   "cell_type": "code",
   "execution_count": null,
   "id": "gentle-compiler",
   "metadata": {},
   "outputs": [],
   "source": []
  },
  {
   "cell_type": "markdown",
   "id": "upset-expression",
   "metadata": {},
   "source": [
    "Its all very well finding 111 after we explictly told it to, but can Grover's do anything useful? \n",
    "\n",
    "The answer is yes!"
   ]
  },
  {
   "cell_type": "markdown",
   "id": "german-orleans",
   "metadata": {},
   "source": [
    "### 3 SAT\n",
    "\n",
    "In this part, we are going to solve a logical satisfiability (SAT) problem using Grover's algorithm. \n",
    "\n",
    "A SAT problem is a list of OR statements connected by ANDs. When there are at most 3 letters (\"literals\") OR'ed together, the problem is called 3SAT (which is known to be NP-Complete). \n",
    "\n",
    "The problem we'll look at involves whether or not 4 people (Alice, Bob, Charles and Daisy) are going to attend a party. The issue is that these 4 have some complicated relationships. Let a mean that Alice is attending, and so on. Then we can express their relationships like so:\n",
    "1. Charles and Daisy are hosting the party so at least one of them has to be there (c OR d)\n",
    "2. Alice has a crush on Bob, so will definitely go if he does (b => a = a OR !b)\n",
    "3. Charles would rather not third wheel, so will not go if Alice and Bob are both attending ( (a AND b) => !c) =  !(a AND b) OR !c = !a OR !b OR !c)\n",
    "4. Daisy won't go if Alice does (a => !d, !a or !d)\n",
    "\n",
    "(this uses the trick that you can rewrite $p => q$ as $!p \\lor q$)\n",
    "\n",
    "3SAT problems are always rewritten in conjunctive normal form (OR statements being AND'ed together). In order to make it an oracle with qiskit, we have to write it in a special form called DIMACS CNF. To do that, we need to tell it how many variables we have and how many clauses we're using. We also need to number our variables so let a=1, b=2, c=3, d=4. Then we write each equation on a different line ending with 0. This gives:\n",
    "\n",
    "    p cnf 3 4\n",
    "    3 4 0\n",
    "    1 -2 0\n",
    "    -1 -2 -3 0\n",
    "    -1 -4 0 "
   ]
  },
  {
   "cell_type": "markdown",
   "id": "sixth-ideal",
   "metadata": {},
   "source": [
    "Ok so lets first see how to do this classically again. First well build the oracle function and then randomly sample it. We'll assume that it takes in the input as \"abcd\""
   ]
  },
  {
   "cell_type": "code",
   "execution_count": null,
   "id": "entire-millennium",
   "metadata": {},
   "outputs": [],
   "source": [
    "def classical_oracle(x):\n",
    "    a, b, c, d = x\n",
    "    \n",
    "    a = int(a)\n",
    "    b = int(b)\n",
    "    c = int(c)\n",
    "    d = int(d)\n",
    "    \n",
    "    #rule 1 - c OR d\n",
    "    #rule 2 - !b OR a\n",
    "    #rule 3 - !a or !b or !c\n",
    "    #rule 4 - !a or !d\n",
    "    if  (c or d) and (not b or a) and (not a or not b or not c) and (not a or not d):\n",
    "        return True\n",
    "    \n",
    "    return False\n",
    "\n",
    "def random_search(search_space):\n",
    "\n",
    "    x = None\n",
    "    queries = 0\n",
    "    while x is None or not classical_oracle(x):\n",
    "        x = random.choice(search_space)\n",
    "        search_space.remove(x)\n",
    "        \n",
    "        queries += 1\n",
    "    \n",
    "    #print(\"Found solution with\", x)\n",
    "    return x, queries\n",
    "        \n",
    "s = ['0000', '0001', '0010', '0011', '0100', '0101', '0110', '0111','1000', '1001', '1010', '1011', '1100', '1101', '1110', '1111']\n",
    "random_search(s.copy())\n"
   ]
  },
  {
   "cell_type": "code",
   "execution_count": null,
   "id": "august-study",
   "metadata": {},
   "outputs": [],
   "source": [
    "#all solutions:\n",
    "print(\"all solutions: \", set([random_search(s.copy())[0] for i in range(50)]))"
   ]
  },
  {
   "cell_type": "code",
   "execution_count": null,
   "id": "bearing-methodology",
   "metadata": {},
   "outputs": [],
   "source": [
    "#average number of queries to get 1 solutions\n",
    "qs = [random_search(s.copy())[1] for _ in range(100)]\n",
    "print(\"Average number of queries: \", np.mean(qs))"
   ]
  },
  {
   "cell_type": "markdown",
   "id": "nervous-south",
   "metadata": {},
   "source": [
    "Now back to Grover's. We write our constraints in DNF and give it to a qiskit function that turns it into a quantum circuit"
   ]
  },
  {
   "cell_type": "code",
   "execution_count": null,
   "id": "bigger-dubai",
   "metadata": {},
   "outputs": [],
   "source": [
    "from qiskit.aqua.components.oracles import LogicalExpressionOracle\n",
    "input_3sat = \"\"\"\n",
    "p cnf 3 4\n",
    "3 4 0\n",
    "1 -2 0\n",
    "-1 -2 -3 0\n",
    "-1 -4 0 \n",
    "\"\"\"\n",
    "oracle = LogicalExpressionOracle(input_3sat)\n"
   ]
  },
  {
   "cell_type": "markdown",
   "id": "dutch-requirement",
   "metadata": {},
   "source": [
    "This constructs a circuit with a 4 qubit variable register, a 4 qubit \"workspace\" register, some ancillas for mct's and a 1 qubit output register which carries the solution.\n",
    "\n",
    "We can see what is happening under the hood if we want, but remember that the point is that we really don't care..."
   ]
  },
  {
   "cell_type": "code",
   "execution_count": null,
   "id": "bottom-blackjack",
   "metadata": {},
   "outputs": [],
   "source": [
    "oracle.construct_circuit().draw(output='mpl')"
   ]
  },
  {
   "cell_type": "markdown",
   "id": "material-clark",
   "metadata": {},
   "source": [
    "We can then just use the qiskit Grover's module to build the oracle into a Grover's oracle and all we have to do is choose the number of iterations.\n",
    "\n",
    "Since there are 4 variables, we know there are $2^4 = 16$ possible assigments. However, we don't know the number of solutions (yet), so let's just try 1 iteration and see what happens."
   ]
  },
  {
   "cell_type": "code",
   "execution_count": null,
   "id": "copyrighted-steam",
   "metadata": {},
   "outputs": [],
   "source": [
    "from qiskit.aqua.algorithms import Grover\n",
    "\n",
    "grover = Grover(oracle, iterations=1)\n",
    "\n",
    "\n",
    "qc = grover.construct_circuit()\n",
    "\n",
    "\n",
    "qc.add_register(ClassicalRegister(4))\n",
    "qc.measure(range(4), range(4))\n",
    "\n",
    "qc.draw(output='mpl')\n"
   ]
  },
  {
   "cell_type": "code",
   "execution_count": null,
   "id": "seventh-bearing",
   "metadata": {},
   "outputs": [],
   "source": [
    "backend = BasicAer.get_backend('qasm_simulator')\n",
    "results = execute(qc.reverse_bits(), backend, shots=1000).result().get_counts()\n",
    "\n",
    "plot_histogram(results)"
   ]
  },
  {
   "cell_type": "markdown",
   "id": "fourth-adventure",
   "metadata": {},
   "source": [
    "This gives us 4 answers: \n",
    "1. 0001 - Daisy goes \n",
    "2. 0010 - Charles goes \n",
    "3. 0011 - Charles and Daisy both go\n",
    "4. 1010 - Alice and Charles go\n",
    "\n",
    "Let's check these satisfy the rules (or just use our classical oracle)"
   ]
  },
  {
   "cell_type": "code",
   "execution_count": null,
   "id": "frozen-mapping",
   "metadata": {},
   "outputs": [],
   "source": [
    "solutions = ['0001', '0010', '0011', '1010']\n",
    "for sol in solutions:\n",
    "    print(sol, classical_oracle(sol))"
   ]
  },
  {
   "cell_type": "code",
   "execution_count": null,
   "id": "south-development",
   "metadata": {},
   "outputs": [],
   "source": []
  }
 ],
 "metadata": {
  "kernelspec": {
   "display_name": "Python 3",
   "language": "python",
   "name": "python3"
  },
  "language_info": {
   "codemirror_mode": {
    "name": "ipython",
    "version": 3
   },
   "file_extension": ".py",
   "mimetype": "text/x-python",
   "name": "python",
   "nbconvert_exporter": "python",
   "pygments_lexer": "ipython3",
   "version": "3.8.5"
  }
 },
 "nbformat": 4,
 "nbformat_minor": 5
}
