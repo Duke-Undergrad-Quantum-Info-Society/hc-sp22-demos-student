{
 "cells": [
  {
   "cell_type": "markdown",
   "metadata": {},
   "source": [
    "# Disproving Einstein: Violating Local Realism"
   ]
  },
  {
   "cell_type": "markdown",
   "metadata": {},
   "source": [
    "## Section 1: The Bell Test Demo\n",
    "![](img/BellTest.png)"
   ]
  },
  {
   "cell_type": "markdown",
   "metadata": {},
   "source": [
    "Using Qiskit to violate the CHSH inequality. We will run the experiment on one of IBM's real quantum computers"
   ]
  },
  {
   "cell_type": "markdown",
   "metadata": {},
   "source": [
    "1. Python imports"
   ]
  },
  {
   "cell_type": "code",
   "execution_count": 1,
   "metadata": {},
   "outputs": [],
   "source": [
    "import numpy as np  \n",
    "from math import pi\n",
    "\n",
    "from qiskit import QuantumCircuit, IBMQ, transpile\n",
    "from qiskit.providers.ibmq.managed import IBMQJobManager\n",
    "from qiskit.providers.ibmq import least_busy"
   ]
  },
  {
   "cell_type": "markdown",
   "metadata": {},
   "source": [
    "2. Extra import to help track jobs on ibmq by adding widget to top left"
   ]
  },
  {
   "cell_type": "code",
   "execution_count": 2,
   "metadata": {},
   "outputs": [
    {
     "data": {
      "application/vnd.jupyter.widget-view+json": {
       "model_id": "0aa4c02a17f44e5e93fbac77a50aae7d",
       "version_major": 2,
       "version_minor": 0
      },
      "text/plain": [
       "Accordion(children=(VBox(layout=Layout(max_width='710px', min_width='710px')),), layout=Layout(max_height='500…"
      ]
     },
     "metadata": {},
     "output_type": "display_data"
    },
    {
     "data": {
      "application/javascript": [
       "$('div.job_widget')\n",
       "        .detach()\n",
       "        .appendTo($('#header'))\n",
       "        .css({\n",
       "            'z-index': 999,\n",
       "             'position': 'fixed',\n",
       "            'box-shadow': '5px 5px 5px -3px black',\n",
       "            'opacity': 0.95,\n",
       "            'float': 'left,'\n",
       "        })\n",
       "        "
      ],
      "text/plain": [
       "<IPython.core.display.Javascript object>"
      ]
     },
     "metadata": {},
     "output_type": "display_data"
    }
   ],
   "source": [
    "import qiskit.tools.jupyter\n",
    "%qiskit_job_watcher"
   ]
  },
  {
   "cell_type": "markdown",
   "metadata": {},
   "source": [
    "3. Actual code to prepare the necessary circuits\n",
    "   \n",
    "  In this example, the following measurement basis angles have been chosen to get the largest possible violation of the CHSH inequality:\n",
    "  \n",
    "   \n",
    "   |Name         | Measurement |  Angle      |\n",
    "   |:-----------:|:-----------:|:-----------:|\n",
    "   |Alice        | Q           |      $0$     |\n",
    "   |Alice        | R           | $-\\frac{\\pi}{2}$     |\n",
    "   |Bob          | S           |    $-\\frac{\\pi}{4}$  |\n",
    "   |Bob          | T           | $\\frac{-3\\pi}{4}$    |\n",
    "    "
   ]
  },
  {
   "cell_type": "code",
   "execution_count": 3,
   "metadata": {
    "scrolled": true
   },
   "outputs": [],
   "source": [
    "def construct_circuit(cor_name, theta=pi/4):\n",
    "    # make the bell pair\n",
    "    circuit = QuantumCircuit(2, 2)\n",
    "    circuit.h(0)\n",
    "    circuit.cx(0,1)\n",
    "    circuit.barrier()\n",
    "    \n",
    "    # perform the correct bell angle measurement based on cor_name (pair selected) \n",
    "    # 0 -> Alice and 1 -> Bob\n",
    "    # Circuit.ry(theta, i) => rotation along y-axis by theta on qubit i\n",
    "    if cor_name == 'QS':\n",
    "        # Q -> circuit.ry(0)\n",
    "        circuit.ry(-theta,1)          \n",
    "    elif cor_name =='RS': \n",
    "        circuit.ry(-2*theta,0)\n",
    "        circuit.ry(-theta,1)\n",
    "    elif cor_name == 'QT':\n",
    "        # Q -> circuit.ry(0)\n",
    "        circuit.ry(-3*theta,1)\n",
    "    elif cor_name == 'RT':\n",
    "        circuit.ry(-2*theta,0)\n",
    "        circuit.ry(-3*theta,1)\n",
    "        \n",
    "    circuit.barrier()\n",
    "    # measure the circuit    \n",
    "    circuit.measure([0,1],[0,1]) \n",
    "    return circuit"
   ]
  },
  {
   "cell_type": "markdown",
   "metadata": {},
   "source": [
    "So for example, the 'RT' circuit looks like"
   ]
  },
  {
   "cell_type": "code",
   "execution_count": 4,
   "metadata": {},
   "outputs": [
    {
     "data": {
      "image/png": "[encoded data removed]",
      "text/plain": [
       "<Figure size 507.852x204.68 with 1 Axes>"
      ]
     },
     "execution_count": 4,
     "metadata": {},
     "output_type": "execute_result"
    }
   ],
   "source": [
    "construct_circuit('RT').draw(output='mpl')"
   ]
  },
  {
   "cell_type": "markdown",
   "metadata": {},
   "source": [
    "4. Setting up the IBM Quantum computers for upcoming simulations"
   ]
  },
  {
   "cell_type": "code",
   "execution_count": 5,
   "metadata": {},
   "outputs": [],
   "source": [
    "provider = IBMQ.load_account() # load provider\n",
    "# select backend or device to run on\n",
    "#backend = provider.get_backend('ibmq_qasm_simulator')\n",
    "#backend = least_busy(provider.backends(simulator=False))\n",
    "\n",
    "#For scheduled jobs (won't work unless you have special access)\n",
    "provider = IBMQ.providers(group='duke-uni-1')[0]\n",
    "backend = provider.get_backend('ibmq_jakarta')\n",
    "\n",
    "\n",
    "nshots = 8192 # set number of shots "
   ]
  },
  {
   "cell_type": "markdown",
   "metadata": {},
   "source": [
    "5. Write the code to run the pairings on actual quantum computer. \n",
    "   The code in the next block is used to run the various jobs on the quantum computers "
   ]
  },
  {
   "cell_type": "code",
   "execution_count": 6,
   "metadata": {},
   "outputs": [
    {
     "name": "stdout",
     "output_type": "stream",
     "text": [
      "running jobs ..\n",
      "jobs successful\n"
     ]
    }
   ],
   "source": [
    "# Different pairs of measurements\n",
    "cor_name_list = ['QS','RS','QT','RT']\n",
    "\n",
    "E = {}\n",
    "circs = []\n",
    "\n",
    "# bundling up circuits so they run in parallel\n",
    "for cor_name in cor_name_list:\n",
    "    circs.append(construct_circuit(cor_name))\n",
    "    \n",
    "# Need to transpile the circuits first\n",
    "circs = transpile(circs, backend=backend)\n",
    "\n",
    "# Use Job Manager to batch the circuits into multiple jobs so the jobs can be submitted all at once\n",
    "job_manager = IBMQJobManager()\n",
    "print(\"running jobs ..\")\n",
    "results = job_manager.run(circs, backend=backend, shots=nshots).results()\n",
    "print(\"jobs successful\")"
   ]
  },
  {
   "cell_type": "code",
   "execution_count": 7,
   "metadata": {},
   "outputs": [
    {
     "name": "stdout",
     "output_type": "stream",
     "text": [
      "counts of  QS  =  {'00': 3455, '01': 728, '10': 819, '11': 3190}\n",
      "counts of  RS  =  {'00': 3460, '01': 690, '10': 1001, '11': 3041}\n",
      "counts of  QT  =  {'00': 1016, '01': 3302, '10': 3241, '11': 633}\n",
      "counts of  RT  =  {'00': 3640, '01': 683, '10': 852, '11': 3017}\n"
     ]
    }
   ],
   "source": [
    "for i in range(len(cor_name_list)):\n",
    "    # runs to get statistical frequencies \n",
    "    counts = results.get_counts(i)\n",
    "    print(\"counts of \", cor_name_list[i], \" = \", counts)"
   ]
  },
  {
   "cell_type": "markdown",
   "metadata": {},
   "source": [
    "We can see what some of these results look like:"
   ]
  },
  {
   "cell_type": "code",
   "execution_count": 8,
   "metadata": {},
   "outputs": [
    {
     "data": {
      "image/png": "[encoded data removed]",
      "text/plain": [
       "<Figure size 504x360 with 1 Axes>"
      ]
     },
     "execution_count": 8,
     "metadata": {},
     "output_type": "execute_result"
    }
   ],
   "source": [
    "from qiskit.visualization import plot_histogram\n",
    "\n",
    "plot_histogram(results.get_counts(2))"
   ]
  },
  {
   "cell_type": "markdown",
   "metadata": {},
   "source": [
    "6. No we calculate the actual CHSH inequality\n",
    "\n",
    "   For more details on the calculations used in the code below see https://en.wikipedia.org/wiki/CHSH_inequality\n",
    "\n",
    "   The main idea:\n",
    "   \n",
    "   - The CHSH inequality states that, according to local realism,$ E(QS) + E(RS) + E(RT) - E(QT) ≤ 2$. \n",
    "   \n",
    "   - By running a Bell Test, we can violate this inequality (and local realism)\n",
    "   \n",
    "   - For each measurement pair from ${Q,R,S,T}$, the number of coincidences is recorded for each category in\n",
    "   ${\\displaystyle \\left\\{N_{11},N_{00},N_{10},N_{01}\\right\\}}$, where $N_{a,b} =$ the number of times Alice measuered    a and Bob measure b. \n",
    "   \n",
    "   - The experimental estimate for ${\\displaystyle E}$ is then calculated as:\n",
    "   ${\\displaystyle E={\\frac {N_{11}-N_{10}-N_{01}+N_{00}}{N_{total}}}}$\n",
    "   which represents the average number of times the 2 measurements between Alice and Bob agree/disagree"
   ]
  },
  {
   "cell_type": "code",
   "execution_count": 9,
   "metadata": {},
   "outputs": [
    {
     "name": "stdout",
     "output_type": "stream",
     "text": [
      "Maximum value according to local realism = 2.0 \n",
      "\n",
      "Calculated S value =  2.43212890625\n",
      "(Ideal S value =  2.8284271247461903 )\n"
     ]
    }
   ],
   "source": [
    "for i, cor_name in enumerate(cor_name_list):\n",
    "    # runs to get statistical frequencies \n",
    "    counts = results.get_counts(i)\n",
    "    # Quantum correlations between Alice and Bob   \n",
    "    E[cor_name] = counts.get('11', 0)/nshots\\\n",
    "        + counts.get('00', 0)/nshots\\\n",
    "        - counts.get('01', 0)/nshots\\\n",
    "        - counts.get('10', 0)/nshots\n",
    "    \n",
    "S = E['QS'] + E['RT'] + E['RS'] - E['QT']\n",
    "\n",
    "\n",
    "print(\"Maximum value according to local realism =\", 2.0, \"\\n\")\n",
    "print(\"Calculated S value = \", S)\n",
    "print(\"(Ideal S value = \", np.sqrt(2)*2, \")\")"
   ]
  },
  {
   "cell_type": "markdown",
   "metadata": {},
   "source": [
    "## Section 2: Exercices"
   ]
  },
  {
   "cell_type": "markdown",
   "metadata": {},
   "source": [
    "(a) Generate all Bell pairs \n",
    "    ![](img/BellStates.png)"
   ]
  },
  {
   "cell_type": "code",
   "execution_count": 10,
   "metadata": {},
   "outputs": [
    {
     "data": {
      "image/png": "[encoded data removed]",
      "text/plain": [
       "<Figure size 478.079x204.68 with 1 Axes>"
      ]
     },
     "execution_count": 10,
     "metadata": {},
     "output_type": "execute_result"
    }
   ],
   "source": [
    "qc = QuantumCircuit(2)\n",
    "\n",
    "qc.h(0)\n",
    "qc.cx(0,1)\n",
    "qc.x(1)\n",
    "\n",
    "qc.measure_all()\n",
    "qc.draw(output='mpl')"
   ]
  },
  {
   "cell_type": "code",
   "execution_count": 11,
   "metadata": {},
   "outputs": [
    {
     "data": {
      "image/png": "[encoded data removed]",
      "text/plain": [
       "<Figure size 504x360 with 1 Axes>"
      ]
     },
     "execution_count": 11,
     "metadata": {},
     "output_type": "execute_result"
    }
   ],
   "source": [
    "from qiskit import execute\n",
    "backend = provider.get_backend('ibmq_qasm_simulator')\n",
    "result = execute(qc, backend).result()\n",
    "plot_histogram(result.get_counts())"
   ]
  },
  {
   "cell_type": "markdown",
   "metadata": {},
   "source": [
    "(b) Can you create a 3-qubit entangled state? Verify either by measuring correlations or analytically showing the state is not seperable"
   ]
  },
  {
   "cell_type": "code",
   "execution_count": null,
   "metadata": {},
   "outputs": [],
   "source": []
  }
 ],
 "metadata": {
  "kernelspec": {
   "display_name": "Python 3",
   "language": "python",
   "name": "python3"
  },
  "language_info": {
   "codemirror_mode": {
    "name": "ipython",
    "version": 3
   },
   "file_extension": ".py",
   "mimetype": "text/x-python",
   "name": "python",
   "nbconvert_exporter": "python",
   "pygments_lexer": "ipython3",
   "version": "3.8.5"
  }
 },
 "nbformat": 4,
 "nbformat_minor": 4
}
